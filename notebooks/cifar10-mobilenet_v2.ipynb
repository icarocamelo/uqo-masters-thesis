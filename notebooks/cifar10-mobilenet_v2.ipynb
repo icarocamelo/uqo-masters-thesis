{
 "cells": [
  {
   "cell_type": "code",
   "execution_count": null,
   "id": "48b92be9-5a23-475c-9a03-3ddef979f61c",
   "metadata": {},
   "outputs": [],
   "source": [
    "!pip install tensorflow tensorflow_datasets"
   ]
  },
  {
   "cell_type": "code",
   "execution_count": null,
   "id": "7bcc3d1f-ef26-4d02-80ea-879ae811fe91",
   "metadata": {},
   "outputs": [],
   "source": [
    "import tensorflow as tf\n",
    "import tensorflow_datasets as tfds\n",
    "\n",
    "# Load the CIFAR-10 dataset\n",
    "dataset, info = tfds.load('cifar10', split='train', with_info=True)\n",
    "\n",
    "# Preprocess the dataset\n",
    "def preprocess_data(data):\n",
    "    image = tf.image.resize(data['image'], (224, 224))  # Resize image to match model input shape\n",
    "    image = tf.cast(image, tf.float32) / 255.0\n",
    "    label = tf.one_hot(data['label'], depth=10)  # Convert label to one-hot encoding\n",
    "    return image, label\n",
    "\n",
    "# Apply preprocessing to the dataset\n",
    "train_dataset = dataset.map(preprocess_data)\n",
    "\n",
    "# Split the dataset into training and validation sets\n",
    "train_size = int(0.8 * info.splits['train'].num_examples)\n",
    "train_dataset = train_dataset.take(train_size)\n",
    "val_dataset = train_dataset.skip(train_size)\n",
    "\n",
    "# Configure batch size and prefetching\n",
    "batch_size = 2\n",
    "train_dataset = train_dataset.batch(batch_size).prefetch(1)\n",
    "val_dataset = val_dataset.batch(batch_size).prefetch(1)\n",
    "\n",
    "\n",
    "\n",
    "\n"
   ]
  },
  {
   "cell_type": "code",
   "execution_count": null,
   "id": "622d1b41-7daa-4803-b5cb-83e066fff6fe",
   "metadata": {},
   "outputs": [],
   "source": [
    "# Load the MobileNetV2 model\n",
    "base_model = tf.keras.applications.MobileNetV2(include_top=False, input_shape=(224, 224, 3))  # Update input shape\n",
    "\n",
    "# Freeze the base model's layers\n",
    "base_model.trainable = False\n",
    "\n",
    "# Add a global average pooling layer\n",
    "global_average_pooling = tf.keras.layers.GlobalAveragePooling2D()(base_model.output)\n",
    "\n",
    "# Add a fully connected output layer with softmax activation for classification\n",
    "output_layer = tf.keras.layers.Dense(10, activation='softmax')(global_average_pooling)\n",
    "\n",
    "# Create the model\n",
    "model = tf.keras.models.Model(inputs=base_model.input, outputs=output_layer)\n",
    "\n",
    "# Define loss function and metrics\n",
    "loss_fn = tf.keras.losses.CategoricalCrossentropy()\n",
    "metrics = [tf.keras.metrics.CategoricalAccuracy()]\n",
    "\n",
    "# Compile the model\n",
    "model.compile(optimizer='adam', loss=loss_fn, metrics=metrics)\n"
   ]
  },
  {
   "cell_type": "code",
   "execution_count": null,
   "id": "54457054-1b40-449b-b48c-02bb7bded7c2",
   "metadata": {},
   "outputs": [],
   "source": [
    "# Train the model\n",
    "epochs = 1\n",
    "model.fit(train_dataset, validation_data=val_dataset, epochs=epochs)"
   ]
  },
  {
   "cell_type": "code",
   "execution_count": null,
   "id": "8f81c7f7-90ee-4fa8-a93c-746de5488c7e",
   "metadata": {},
   "outputs": [],
   "source": [
    "# Save the trained model\n",
    "model.save('mobilenetv2_cifar10_model.h5')"
   ]
  }
 ],
 "metadata": {
  "kernelspec": {
   "display_name": "Python 3 (ipykernel)",
   "language": "python",
   "name": "python3"
  },
  "language_info": {
   "codemirror_mode": {
    "name": "ipython",
    "version": 3
   },
   "file_extension": ".py",
   "mimetype": "text/x-python",
   "name": "python",
   "nbconvert_exporter": "python",
   "pygments_lexer": "ipython3",
   "version": "3.8.10"
  }
 },
 "nbformat": 4,
 "nbformat_minor": 5
}
